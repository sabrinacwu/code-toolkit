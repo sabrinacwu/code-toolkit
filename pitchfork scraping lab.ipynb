{
 "cells": [
  {
   "cell_type": "code",
   "execution_count": 3,
   "metadata": {},
   "outputs": [],
   "source": [
    "%matplotlib inline\n",
    "import matplotlib.pyplot as plt\n",
    "import requests\n",
    "from bs4 import BeautifulSoup\n",
    "import pandas as pd\n",
    "import numpy as np"
   ]
  },
  {
   "cell_type": "code",
   "execution_count": 4,
   "metadata": {},
   "outputs": [],
   "source": [
    "url = 'https://pitchfork.com/reviews/albums/'"
   ]
  },
  {
   "cell_type": "code",
   "execution_count": 5,
   "metadata": {},
   "outputs": [],
   "source": [
    "response = requests.get(url)"
   ]
  },
  {
   "cell_type": "code",
   "execution_count": 6,
   "metadata": {},
   "outputs": [],
   "source": [
    "soup = BeautifulSoup(response.text, 'html.parser')"
   ]
  },
  {
   "cell_type": "code",
   "execution_count": 7,
   "metadata": {},
   "outputs": [
    {
     "data": {
      "text/plain": [
       "<div class=\"review\"><a class=\"review__link\" href=\"/reviews/albums/21-savage-i-am-i-was/\"><div class=\"review__artwork artwork\"><div class=\"\"><img alt=\"Cover of I am &gt; I was\" src=\"https://media.pitchfork.com/photos/5c191d10d8c626304c2d48cb/1:1/w_160/21%20savage_I%20am%20I%20was.jpg\"/></div></div><div class=\"review__title\"><ul class=\"artist-list review__title-artist\"><li>21 Savage</li></ul><h2 class=\"review__title-album\">I Am &gt; I Was</h2></div></a><div class=\"review__meta\"><ul class=\"genre-list genre-list--inline review__genre-list\"><li class=\"genre-list__item\"><a class=\"genre-list__link\" href=\"/reviews/albums/?genre=rap\">Rap</a></li></ul><ul class=\"authors\"><li><a class=\"linked display-name display-name--linked\" href=\"/staff/paul-a-thompson/\"><span class=\"by\">by: </span>Paul A. Thompson</a></li></ul><time class=\"pub-date\" datetime=\"2019-01-02T06:00:00\" title=\"Wed, 02 Jan 2019 06:00:00 GMT\">22 hrs ago</time></div></div>"
      ]
     },
     "execution_count": 7,
     "metadata": {},
     "output_type": "execute_result"
    }
   ],
   "source": [
    "soup.find('div', {'class': 'review'})"
   ]
  },
  {
   "cell_type": "code",
   "execution_count": 8,
   "metadata": {},
   "outputs": [],
   "source": [
    "rev_1 = soup.find('div', {'class': 'review'})"
   ]
  },
  {
   "cell_type": "code",
   "execution_count": 9,
   "metadata": {},
   "outputs": [
    {
     "data": {
      "text/plain": [
       "<li>21 Savage</li>"
      ]
     },
     "execution_count": 9,
     "metadata": {},
     "output_type": "execute_result"
    }
   ],
   "source": [
    "rev_1.find('li')"
   ]
  },
  {
   "cell_type": "code",
   "execution_count": 10,
   "metadata": {},
   "outputs": [
    {
     "data": {
      "text/plain": [
       "'21 Savage'"
      ]
     },
     "execution_count": 10,
     "metadata": {},
     "output_type": "execute_result"
    }
   ],
   "source": [
    "rev_1.find('li').text"
   ]
  },
  {
   "cell_type": "code",
   "execution_count": 11,
   "metadata": {},
   "outputs": [
    {
     "data": {
      "text/plain": [
       "'I Am > I Was'"
      ]
     },
     "execution_count": 11,
     "metadata": {},
     "output_type": "execute_result"
    }
   ],
   "source": [
    "rev_1.find('h2').text"
   ]
  },
  {
   "cell_type": "code",
   "execution_count": 12,
   "metadata": {},
   "outputs": [
    {
     "data": {
      "text/plain": [
       "'Rap'"
      ]
     },
     "execution_count": 12,
     "metadata": {},
     "output_type": "execute_result"
    }
   ],
   "source": [
    "rev_1.find('li',{'class': 'genre-list__item'}).text"
   ]
  },
  {
   "cell_type": "code",
   "execution_count": 13,
   "metadata": {},
   "outputs": [
    {
     "data": {
      "text/plain": [
       "'by: Paul A. Thompson'"
      ]
     },
     "execution_count": 13,
     "metadata": {},
     "output_type": "execute_result"
    }
   ],
   "source": [
    "rev_1.find('ul', {'class': 'authors'}).text"
   ]
  },
  {
   "cell_type": "code",
   "execution_count": 14,
   "metadata": {},
   "outputs": [
    {
     "data": {
      "text/plain": [
       "'22 hrs ago'"
      ]
     },
     "execution_count": 14,
     "metadata": {},
     "output_type": "execute_result"
    }
   ],
   "source": [
    "rev_1.find('time').text"
   ]
  },
  {
   "cell_type": "code",
   "execution_count": 15,
   "metadata": {},
   "outputs": [],
   "source": [
    "reviews = soup.find_all('div', {'class': 'review'})"
   ]
  },
  {
   "cell_type": "code",
   "execution_count": 16,
   "metadata": {},
   "outputs": [
    {
     "data": {
      "text/plain": [
       "12"
      ]
     },
     "execution_count": 16,
     "metadata": {},
     "output_type": "execute_result"
    }
   ],
   "source": [
    "len(reviews)"
   ]
  },
  {
   "cell_type": "code",
   "execution_count": 17,
   "metadata": {},
   "outputs": [
    {
     "data": {
      "text/plain": [
       "[<div class=\"review\"><a class=\"review__link\" href=\"/reviews/albums/21-savage-i-am-i-was/\"><div class=\"review__artwork artwork\"><div class=\"\"><img alt=\"Cover of I am &gt; I was\" src=\"https://media.pitchfork.com/photos/5c191d10d8c626304c2d48cb/1:1/w_160/21%20savage_I%20am%20I%20was.jpg\"/></div></div><div class=\"review__title\"><ul class=\"artist-list review__title-artist\"><li>21 Savage</li></ul><h2 class=\"review__title-album\">I Am &gt; I Was</h2></div></a><div class=\"review__meta\"><ul class=\"genre-list genre-list--inline review__genre-list\"><li class=\"genre-list__item\"><a class=\"genre-list__link\" href=\"/reviews/albums/?genre=rap\">Rap</a></li></ul><ul class=\"authors\"><li><a class=\"linked display-name display-name--linked\" href=\"/staff/paul-a-thompson/\"><span class=\"by\">by: </span>Paul A. Thompson</a></li></ul><time class=\"pub-date\" datetime=\"2019-01-02T06:00:00\" title=\"Wed, 02 Jan 2019 06:00:00 GMT\">22 hrs ago</time></div></div>,\n",
       " <div class=\"review\"><a class=\"review__link\" href=\"/reviews/albums/magic-dirt-signs-of-satanic-youth/\"><div class=\"review__artwork artwork\"><div class=\"\"><img alt=\"\" src=\"https://media.pitchfork.com/photos/5c191acf19f63059050d1e99/1:1/w_160/signs%20of%20satantic%20youth_magic%20youth.jpg\"/></div></div><div class=\"review__title\"><ul class=\"artist-list review__title-artist\"><li>Magic Dirt</li></ul><h2 class=\"review__title-album\">Signs of Satanic Youth</h2></div></a><div class=\"review__meta\"><ul class=\"genre-list genre-list--inline review__genre-list\"><li class=\"genre-list__item\"><a class=\"genre-list__link\" href=\"/reviews/albums/?genre=rock\">Rock</a></li></ul><ul class=\"authors\"><li><a class=\"linked display-name display-name--linked\" href=\"/staff/stuart-berman/\"><span class=\"by\">by: </span>Stuart Berman</a></li></ul><time class=\"pub-date\" datetime=\"2019-01-02T06:00:00\" title=\"Wed, 02 Jan 2019 06:00:00 GMT\">22 hrs ago</time></div></div>,\n",
       " <div class=\"review\"><a class=\"review__link\" href=\"/reviews/albums/algernon-cadwallader-some-kind-of-cadwallader/\"><div class=\"review__artwork artwork artwork--multi\"><div class=\"\"><img alt=\"Cover of Some Kind of Cadwallader\" src=\"https://media.pitchfork.com/photos/5c0e8f47ddc67619fa982562/1:1/w_160/some%20kind%20of_algernon%20cadwallader.jpg\"/></div></div><div class=\"review__title\"><ul class=\"artist-list review__title-artist\"><li>Algernon Cadwallader</li></ul><h2 class=\"review__title-album\">Some Kind of Cadwallader</h2></div></a><div class=\"review__meta\"><ul class=\"genre-list genre-list--inline review__genre-list\"><li class=\"genre-list__item\"><a class=\"genre-list__link\" href=\"/reviews/albums/?genre=rock\">Rock</a></li></ul><ul class=\"authors\"><li><a class=\"linked display-name display-name--linked\" href=\"/staff/ian-cohen/\"><span class=\"by\">by: </span>Ian Cohen</a></li></ul><time class=\"pub-date\" datetime=\"2018-12-29T06:00:00\" title=\"Sat, 29 Dec 2018 06:00:00 GMT\">December 29 2018</time></div></div>]"
      ]
     },
     "execution_count": 17,
     "metadata": {},
     "output_type": "execute_result"
    }
   ],
   "source": [
    "reviews[:3]"
   ]
  },
  {
   "cell_type": "code",
   "execution_count": 22,
   "metadata": {},
   "outputs": [],
   "source": [
    "l = ['robyn', 'mitski', 1, 'rosalia', 'jade bird']"
   ]
  },
  {
   "cell_type": "code",
   "execution_count": 23,
   "metadata": {},
   "outputs": [
    {
     "name": "stdout",
     "output_type": "stream",
     "text": [
      "robyn\n",
      "mitski\n",
      "1\n",
      "rosalia\n",
      "jade bird\n"
     ]
    }
   ],
   "source": [
    "for entry in l:\n",
    "    print(entry)"
   ]
  },
  {
   "cell_type": "code",
   "execution_count": 24,
   "metadata": {},
   "outputs": [
    {
     "name": "stdout",
     "output_type": "stream",
     "text": [
      "<class 'str'>\n",
      "<class 'str'>\n",
      "<class 'int'>\n",
      "<class 'str'>\n",
      "<class 'str'>\n"
     ]
    }
   ],
   "source": [
    "for ent in l:\n",
    "    print(type(ent))"
   ]
  },
  {
   "cell_type": "code",
   "execution_count": 25,
   "metadata": {},
   "outputs": [
    {
     "name": "stdout",
     "output_type": "stream",
     "text": [
      "Howdy, this time through, we're on  robyn congratulations.\n",
      "Howdy, this time through, we're on  mitski congratulations.\n",
      "Howdy, this time through, we're on  1 congratulations.\n",
      "Howdy, this time through, we're on  rosalia congratulations.\n",
      "Howdy, this time through, we're on  jade bird congratulations.\n"
     ]
    }
   ],
   "source": [
    "for enty in l:\n",
    "    print(\"Howdy, this time through, we're on \", enty, \"congratulations.\")"
   ]
  },
  {
   "cell_type": "code",
   "execution_count": null,
   "metadata": {},
   "outputs": [],
   "source": []
  },
  {
   "cell_type": "code",
   "execution_count": 31,
   "metadata": {},
   "outputs": [],
   "source": [
    "page_num = [i for i in range(2, 400)]\n",
    "url = 'https://pitchfork.com/reviews/albums/'\n",
    "response = requests.get(url)\n",
    "soup = BeautifulSoup(response.text, 'html.parser')\n",
    "reviews = soup.find_all('div', {'class': 'review'})"
   ]
  },
  {
   "cell_type": "code",
   "execution_count": 32,
   "metadata": {},
   "outputs": [
    {
     "ename": "AttributeError",
     "evalue": "'NoneType' object has no attribute 'text'",
     "output_type": "error",
     "traceback": [
      "\u001b[0;31m---------------------------------------------------------------------------\u001b[0m",
      "\u001b[0;31mAttributeError\u001b[0m                            Traceback (most recent call last)",
      "\u001b[0;32m<ipython-input-32-264c880a913b>\u001b[0m in \u001b[0;36m<module>\u001b[0;34m()\u001b[0m\n\u001b[1;32m     10\u001b[0m     \u001b[0ms\u001b[0m \u001b[0;34m=\u001b[0m \u001b[0mreview\u001b[0m\u001b[0;34m.\u001b[0m\u001b[0mfind\u001b[0m\u001b[0;34m(\u001b[0m\u001b[0;34m'h2'\u001b[0m\u001b[0;34m)\u001b[0m\u001b[0;34m.\u001b[0m\u001b[0mtext\u001b[0m\u001b[0;34m\u001b[0m\u001b[0m\n\u001b[1;32m     11\u001b[0m     \u001b[0malbums\u001b[0m\u001b[0;34m.\u001b[0m\u001b[0mappend\u001b[0m\u001b[0;34m(\u001b[0m\u001b[0ms\u001b[0m\u001b[0;34m)\u001b[0m\u001b[0;34m\u001b[0m\u001b[0m\n\u001b[0;32m---> 12\u001b[0;31m     \u001b[0mgenre\u001b[0m\u001b[0;34m.\u001b[0m\u001b[0mappend\u001b[0m\u001b[0;34m(\u001b[0m\u001b[0mreview\u001b[0m\u001b[0;34m.\u001b[0m\u001b[0mfind\u001b[0m\u001b[0;34m(\u001b[0m\u001b[0;34m'li'\u001b[0m\u001b[0;34m,\u001b[0m\u001b[0;34m{\u001b[0m\u001b[0;34m'class'\u001b[0m\u001b[0;34m:\u001b[0m \u001b[0;34m'genre-list__item'\u001b[0m\u001b[0;34m}\u001b[0m\u001b[0;34m)\u001b[0m\u001b[0;34m.\u001b[0m\u001b[0mtext\u001b[0m\u001b[0;34m)\u001b[0m\u001b[0;34m\u001b[0m\u001b[0m\n\u001b[0m\u001b[1;32m     13\u001b[0m     \u001b[0mauthor\u001b[0m\u001b[0;34m.\u001b[0m\u001b[0mappend\u001b[0m\u001b[0;34m(\u001b[0m\u001b[0mreview\u001b[0m\u001b[0;34m.\u001b[0m\u001b[0mfind\u001b[0m\u001b[0;34m(\u001b[0m\u001b[0;34m'ul'\u001b[0m\u001b[0;34m,\u001b[0m \u001b[0;34m{\u001b[0m\u001b[0;34m'class'\u001b[0m\u001b[0;34m:\u001b[0m \u001b[0;34m'authors'\u001b[0m\u001b[0;34m}\u001b[0m\u001b[0;34m)\u001b[0m\u001b[0;34m.\u001b[0m\u001b[0mtext\u001b[0m\u001b[0;34m)\u001b[0m\u001b[0;34m\u001b[0m\u001b[0m\n\u001b[1;32m     14\u001b[0m     \u001b[0mwhen\u001b[0m\u001b[0;34m.\u001b[0m\u001b[0mappend\u001b[0m\u001b[0;34m(\u001b[0m\u001b[0mreview\u001b[0m\u001b[0;34m.\u001b[0m\u001b[0mfind\u001b[0m\u001b[0;34m(\u001b[0m\u001b[0;34m'time'\u001b[0m\u001b[0;34m)\u001b[0m\u001b[0;34m.\u001b[0m\u001b[0mtext\u001b[0m\u001b[0;34m)\u001b[0m\u001b[0;34m\u001b[0m\u001b[0m\n",
      "\u001b[0;31mAttributeError\u001b[0m: 'NoneType' object has no attribute 'text'"
     ]
    }
   ],
   "source": [
    "artists = []\n",
    "albums = []\n",
    "genre = []\n",
    "author = []\n",
    "when = []\n",
    "links = []\n",
    "for review in reviews:\n",
    "    t = review.find('li').text\n",
    "    artists.append(t)\n",
    "    s = review.find('h2').text\n",
    "    albums.append(s)\n",
    "    genre.append(review.find('li',{'class': 'genre-list__item'}).text)\n",
    "    author.append(review.find('ul', {'class': 'authors'}).text)\n",
    "    when.append(review.find('time').text)\n",
    "    links.append(review.a['href'])"
   ]
  },
  {
   "cell_type": "code",
   "execution_count": null,
   "metadata": {},
   "outputs": [],
   "source": [
    "#idk how to fix this!!"
   ]
  }
 ],
 "metadata": {
  "kernelspec": {
   "display_name": "Python 3",
   "language": "python",
   "name": "python3"
  },
  "language_info": {
   "codemirror_mode": {
    "name": "ipython",
    "version": 3
   },
   "file_extension": ".py",
   "mimetype": "text/x-python",
   "name": "python",
   "nbconvert_exporter": "python",
   "pygments_lexer": "ipython3",
   "version": "3.6.5"
  }
 },
 "nbformat": 4,
 "nbformat_minor": 2
}
