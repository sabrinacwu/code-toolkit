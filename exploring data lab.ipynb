{
 "cells": [
  {
   "cell_type": "code",
   "execution_count": 1,
   "metadata": {},
   "outputs": [],
   "source": [
    "%matplotlib inline\n",
    "import matplotlib.pyplot as plt\n",
    "import pandas as pd\n",
    "import numpy as np\n",
    "import seaborn as sns"
   ]
  },
  {
   "cell_type": "code",
   "execution_count": 5,
   "metadata": {},
   "outputs": [],
   "source": [
    "df = pd.read_csv('sqf-2017.csv')"
   ]
  },
  {
   "cell_type": "code",
   "execution_count": 7,
   "metadata": {},
   "outputs": [
    {
     "name": "stdout",
     "output_type": "stream",
     "text": [
      "<class 'pandas.core.frame.DataFrame'>\n",
      "RangeIndex: 11629 entries, 0 to 11628\n",
      "Data columns (total 86 columns):\n",
      "STOP_FRISK_ID                                                   11629 non-null int64\n",
      "STOP_FRISK_DATE                                                 11629 non-null object\n",
      "STOP_FRISK_TIME                                                 11624 non-null object\n",
      "YEAR2                                                           11629 non-null int64\n",
      "MONTH2                                                          11629 non-null object\n",
      "DAY2                                                            11629 non-null object\n",
      "STOP_WAS_INITIATED                                              11629 non-null object\n",
      "SPRINT_NUMBER                                                   11202 non-null object\n",
      "RECORD_STATUS_CODE                                              11629 non-null object\n",
      "ISSUING_OFFICER_RANK                                            11629 non-null object\n",
      "ISSUING_OFFICER_COMMAND_CODE                                    11629 non-null int64\n",
      "SUPERVISING_OFFICER_RANK                                        11629 non-null object\n",
      "SUPERVISING_OFFICER_COMMAND_CODE                                11629 non-null int64\n",
      "SUPERVISING_ACTION_CORRESPONDING_ACTIVITY_LOG_ENTRY_REVIEWED    11629 non-null object\n",
      "LOCATION_IN_OUT_CODE                                            11629 non-null object\n",
      "JURISDICTION_CODE                                               11629 non-null object\n",
      "JURISDICTION_DESCRIPTION                                        11629 non-null object\n",
      "OBSERVED_DURATION_MINUTES                                       11629 non-null int64\n",
      "SUSPECTED_CRIME_DESCRIPTION                                     11629 non-null object\n",
      "STOP_DURATION_MINUTES                                           11629 non-null int64\n",
      "OFFICER_EXPLAINED_STOP_FLAG                                     11629 non-null object\n",
      "OFFICER_NOT_EXPLAINED_STOP_DESCRIPTION                          11628 non-null object\n",
      "OTHER_PERSON_STOPPED_FLAG                                       11629 non-null object\n",
      "SUSPECT_ARRESTED_FLAG                                           11629 non-null object\n",
      "SUSPECT_ARREST_NUMBER                                           11629 non-null object\n",
      "SUSPECT_ARREST_OFFENSE                                          11629 non-null object\n",
      "SUMMONS_ISSUED_FLAG                                             11629 non-null object\n",
      "SUMMONS_NUMBER                                                  11629 non-null object\n",
      "SUMMONS_OFFENSE_DESCRIPTION                                     11629 non-null object\n",
      "OFFICER_IN_UNIFORM_FLAG                                         11629 non-null object\n",
      "ID_CARD_IDENTIFIES_OFFICER_FLAG                                 11629 non-null object\n",
      "SHIELD_IDENTIFIES_OFFICER_FLAG                                  11629 non-null object\n",
      "VERBAL_IDENTIFIES_OFFICER_FLAG                                  11629 non-null object\n",
      "FRISKED_FLAG                                                    11629 non-null object\n",
      "SEARCHED_FLAG                                                   11629 non-null object\n",
      "OTHER_CONTRABAND_FLAG                                           11629 non-null object\n",
      "FIREARM_FLAG                                                    11629 non-null object\n",
      "KNIFE_CUTTER_FLAG                                               11629 non-null object\n",
      "OTHER_WEAPON_FLAG                                               11629 non-null object\n",
      "WEAPON_FOUND_FLAG                                               11629 non-null object\n",
      "PHYSICAL_FORCE_CEW_FLAG                                         11629 non-null object\n",
      "PHYSICAL_FORCE_DRAW_POINT_FIREARM_FLAG                          11629 non-null object\n",
      "PHYSICAL_FORCE_HANDCUFF_SUSPECT_FLAG                            11629 non-null object\n",
      "PHYSICAL_FORCE_OC_SPRAY_USED_FLAG                               11629 non-null object\n",
      "PHYSICAL_FORCE_OTHER_FLAG                                       11629 non-null object\n",
      "PHYSICAL_FORCE_RESTRAINT_USED_FLAG                              11629 non-null object\n",
      "PHYSICAL_FORCE_VERBAL_INSTRUCTION_FLAG                          11629 non-null object\n",
      "PHYSICAL_FORCE_WEAPON_IMPACT_FLAG                               11629 non-null object\n",
      "BACKROUND_CIRCUMSTANCES_VIOLENT_CRIME_FLAG                      11629 non-null object\n",
      "BACKROUND_CIRCUMSTANCES_SUSPECT_KNOWN_TO_CARRY_WEAPON_FLAG      11629 non-null object\n",
      "SUSPECTS_ACTIONS_CASING_FLAG                                    11629 non-null object\n",
      "SUSPECTS_ACTIONS_CONCEALED_POSSESSION_WEAPON_FLAG               11629 non-null object\n",
      "SUSPECTS_ACTIONS_DECRIPTION_FLAG                                11629 non-null object\n",
      "SUSPECTS_ACTIONS_DRUG_TRANSACTIONS_FLAG                         11629 non-null object\n",
      "SUSPECTS_ACTIONS_IDENTIFY_CRIME_PATTERN_FLAG                    11629 non-null object\n",
      "SUSPECTS_ACTIONS_LOOKOUT_FLAG                                   11629 non-null object\n",
      "SUSPECTS_ACTIONS_OTHER_FLAG                                     11629 non-null object\n",
      "SUSPECTS_ACTIONS_PROXIMITY_TO_SCENE_FLAG                        11629 non-null object\n",
      "SEARCH_BASIS_ADMISSION_FLAG                                     11629 non-null object\n",
      "SEARCH_BASIS_CONSENT_FLAG                                       11629 non-null object\n",
      "SEARCH_BASIS_HARD_OBJECT_FLAG                                   11629 non-null object\n",
      "SEARCH_BASIS_INCIDENTAL_TO_ARREST_FLAG                          11629 non-null object\n",
      "SEARCH_BASIS_OTHER_FLAG                                         11629 non-null object\n",
      "SEARCH_BASIS_OUTLINE_FLAG                                       11629 non-null object\n",
      "DEMEANOR_CODE                                                   11629 non-null object\n",
      "DEMEANOR_OF_PERSON_STOPPED                                      11588 non-null object\n",
      "SUSPECT_REPORTED_AGE                                            11629 non-null object\n",
      "SUSPECT_SEX                                                     11629 non-null object\n",
      "SUSPECT_RACE_DESCRIPTION                                        11629 non-null object\n",
      "SUSPECT_HEIGHT                                                  11629 non-null object\n",
      "SUSPECT_WEIGHT                                                  11629 non-null object\n",
      "SUSPECT_BODY_BUILD_TYPE                                         11629 non-null object\n",
      "SUSPECT_EYE_COLOR                                               11629 non-null object\n",
      "SUSPECT_HAIR_COLOR                                              11629 non-null object\n",
      "SUSPECT_OTHER_DESCRIPTION                                       10607 non-null object\n",
      "STOP_LOCATION_PRECINCT                                          11629 non-null object\n",
      "STOP_LOCATION_SECTOR_CODE                                       11629 non-null object\n",
      "STOP_LOCATION_APARTMENT                                         11604 non-null object\n",
      "STOP_LOCATION_FULL_ADDRESS                                      11629 non-null object\n",
      "STOP_LOCATION_PREMISES_NAME                                     11629 non-null object\n",
      "STOP_LOCATION_STREET_NAME                                       11629 non-null object\n",
      "STOP_LOCATION_X                                                 11629 non-null object\n",
      "STOP_LOCATION_Y                                                 11629 non-null object\n",
      "STOP_LOCATION_ZIP_CODE                                          11629 non-null object\n",
      "STOP_LOCATION_PATROL_BORO_NAME                                  11629 non-null object\n",
      "STOP_LOCATION_BORO_NAME                                         11629 non-null object\n",
      "dtypes: int64(6), object(80)\n",
      "memory usage: 7.6+ MB\n"
     ]
    }
   ],
   "source": [
    "df.info()"
   ]
  },
  {
   "cell_type": "code",
   "execution_count": 8,
   "metadata": {},
   "outputs": [
    {
     "ename": "SyntaxError",
     "evalue": "invalid syntax (<ipython-input-8-71f11347ebfc>, line 1)",
     "output_type": "error",
     "traceback": [
      "\u001b[0;36m  File \u001b[0;32m\"<ipython-input-8-71f11347ebfc>\"\u001b[0;36m, line \u001b[0;32m1\u001b[0m\n\u001b[0;31m    df[]\u001b[0m\n\u001b[0m       ^\u001b[0m\n\u001b[0;31mSyntaxError\u001b[0m\u001b[0;31m:\u001b[0m invalid syntax\n"
     ]
    }
   ],
   "source": [
    "df[]"
   ]
  },
  {
   "cell_type": "code",
   "execution_count": 9,
   "metadata": {},
   "outputs": [
    {
     "data": {
      "text/html": [
       "<div>\n",
       "<style scoped>\n",
       "    .dataframe tbody tr th:only-of-type {\n",
       "        vertical-align: middle;\n",
       "    }\n",
       "\n",
       "    .dataframe tbody tr th {\n",
       "        vertical-align: top;\n",
       "    }\n",
       "\n",
       "    .dataframe thead th {\n",
       "        text-align: right;\n",
       "    }\n",
       "</style>\n",
       "<table border=\"1\" class=\"dataframe\">\n",
       "  <thead>\n",
       "    <tr style=\"text-align: right;\">\n",
       "      <th></th>\n",
       "      <th>STOP_FRISK_ID</th>\n",
       "      <th>STOP_FRISK_DATE</th>\n",
       "      <th>STOP_FRISK_TIME</th>\n",
       "      <th>YEAR2</th>\n",
       "      <th>MONTH2</th>\n",
       "      <th>DAY2</th>\n",
       "      <th>STOP_WAS_INITIATED</th>\n",
       "      <th>SPRINT_NUMBER</th>\n",
       "      <th>RECORD_STATUS_CODE</th>\n",
       "      <th>ISSUING_OFFICER_RANK</th>\n",
       "      <th>...</th>\n",
       "      <th>STOP_LOCATION_SECTOR_CODE</th>\n",
       "      <th>STOP_LOCATION_APARTMENT</th>\n",
       "      <th>STOP_LOCATION_FULL_ADDRESS</th>\n",
       "      <th>STOP_LOCATION_PREMISES_NAME</th>\n",
       "      <th>STOP_LOCATION_STREET_NAME</th>\n",
       "      <th>STOP_LOCATION_X</th>\n",
       "      <th>STOP_LOCATION_Y</th>\n",
       "      <th>STOP_LOCATION_ZIP_CODE</th>\n",
       "      <th>STOP_LOCATION_PATROL_BORO_NAME</th>\n",
       "      <th>STOP_LOCATION_BORO_NAME</th>\n",
       "    </tr>\n",
       "  </thead>\n",
       "  <tbody>\n",
       "    <tr>\n",
       "      <th>0</th>\n",
       "      <td>1</td>\n",
       "      <td>1/16/2017</td>\n",
       "      <td>14:26:00</td>\n",
       "      <td>2017</td>\n",
       "      <td>January</td>\n",
       "      <td>Monday</td>\n",
       "      <td>Based on Self Initiated</td>\n",
       "      <td>11617924</td>\n",
       "      <td>APP</td>\n",
       "      <td>SGT</td>\n",
       "      <td>...</td>\n",
       "      <td>(null)</td>\n",
       "      <td>(null)</td>\n",
       "      <td>180 GREENWICH STREET</td>\n",
       "      <td>(null)</td>\n",
       "      <td>GREENWICH STREET</td>\n",
       "      <td>982381</td>\n",
       "      <td>201750</td>\n",
       "      <td>(null)</td>\n",
       "      <td>PBMS</td>\n",
       "      <td>MANHATTAN</td>\n",
       "    </tr>\n",
       "    <tr>\n",
       "      <th>1</th>\n",
       "      <td>2</td>\n",
       "      <td>1/16/2017</td>\n",
       "      <td>14:26:00</td>\n",
       "      <td>2017</td>\n",
       "      <td>January</td>\n",
       "      <td>Monday</td>\n",
       "      <td>Based on Self Initiated</td>\n",
       "      <td>11617924</td>\n",
       "      <td>APP</td>\n",
       "      <td>SGT</td>\n",
       "      <td>...</td>\n",
       "      <td>(null)</td>\n",
       "      <td>(null)</td>\n",
       "      <td>180 GREENWICH STREET</td>\n",
       "      <td>(null)</td>\n",
       "      <td>GREENWICH STREET</td>\n",
       "      <td>982381</td>\n",
       "      <td>201750</td>\n",
       "      <td>(null)</td>\n",
       "      <td>PBMS</td>\n",
       "      <td>MANHATTAN</td>\n",
       "    </tr>\n",
       "    <tr>\n",
       "      <th>2</th>\n",
       "      <td>3</td>\n",
       "      <td>2/8/2017</td>\n",
       "      <td>11:10:00</td>\n",
       "      <td>2017</td>\n",
       "      <td>February</td>\n",
       "      <td>Wednesday</td>\n",
       "      <td>Based on C/W on Scene</td>\n",
       "      <td>17020808555</td>\n",
       "      <td>APP</td>\n",
       "      <td>POM</td>\n",
       "      <td>...</td>\n",
       "      <td>C</td>\n",
       "      <td>(null)</td>\n",
       "      <td>WALL STREET &amp;&amp; BROADWAY</td>\n",
       "      <td>(null)</td>\n",
       "      <td>WALL STREET</td>\n",
       "      <td>981005</td>\n",
       "      <td>197131</td>\n",
       "      <td>(null)</td>\n",
       "      <td>PBMS</td>\n",
       "      <td>MANHATTAN</td>\n",
       "    </tr>\n",
       "    <tr>\n",
       "      <th>3</th>\n",
       "      <td>4</td>\n",
       "      <td>2/20/2017</td>\n",
       "      <td>11:35:00</td>\n",
       "      <td>2017</td>\n",
       "      <td>February</td>\n",
       "      <td>Monday</td>\n",
       "      <td>Based on Self Initiated</td>\n",
       "      <td>9027</td>\n",
       "      <td>APP</td>\n",
       "      <td>POM</td>\n",
       "      <td>...</td>\n",
       "      <td>H</td>\n",
       "      <td>(null)</td>\n",
       "      <td>75 GREENE STREET</td>\n",
       "      <td>(null)</td>\n",
       "      <td>GREENE STREET</td>\n",
       "      <td>984031</td>\n",
       "      <td>202796</td>\n",
       "      <td>(null)</td>\n",
       "      <td>PBMS</td>\n",
       "      <td>MANHATTAN</td>\n",
       "    </tr>\n",
       "    <tr>\n",
       "      <th>4</th>\n",
       "      <td>5</td>\n",
       "      <td>2/21/2017</td>\n",
       "      <td>13:20:00</td>\n",
       "      <td>2017</td>\n",
       "      <td>February</td>\n",
       "      <td>Tuesday</td>\n",
       "      <td>Based on Radio Run</td>\n",
       "      <td>10439</td>\n",
       "      <td>APP</td>\n",
       "      <td>POM</td>\n",
       "      <td>...</td>\n",
       "      <td>H</td>\n",
       "      <td>2</td>\n",
       "      <td>429 WEST BROADWAY</td>\n",
       "      <td>(null)</td>\n",
       "      <td>WEST BROADWAY</td>\n",
       "      <td>983894</td>\n",
       "      <td>203523</td>\n",
       "      <td>(null)</td>\n",
       "      <td>PBMS</td>\n",
       "      <td>MANHATTAN</td>\n",
       "    </tr>\n",
       "  </tbody>\n",
       "</table>\n",
       "<p>5 rows × 86 columns</p>\n",
       "</div>"
      ],
      "text/plain": [
       "   STOP_FRISK_ID STOP_FRISK_DATE STOP_FRISK_TIME  YEAR2    MONTH2       DAY2  \\\n",
       "0              1       1/16/2017        14:26:00   2017   January     Monday   \n",
       "1              2       1/16/2017        14:26:00   2017   January     Monday   \n",
       "2              3        2/8/2017        11:10:00   2017  February  Wednesday   \n",
       "3              4       2/20/2017        11:35:00   2017  February     Monday   \n",
       "4              5       2/21/2017        13:20:00   2017  February    Tuesday   \n",
       "\n",
       "        STOP_WAS_INITIATED SPRINT_NUMBER RECORD_STATUS_CODE  \\\n",
       "0  Based on Self Initiated      11617924                APP   \n",
       "1  Based on Self Initiated      11617924                APP   \n",
       "2    Based on C/W on Scene   17020808555                APP   \n",
       "3  Based on Self Initiated          9027                APP   \n",
       "4       Based on Radio Run         10439                APP   \n",
       "\n",
       "  ISSUING_OFFICER_RANK           ...             STOP_LOCATION_SECTOR_CODE  \\\n",
       "0                  SGT           ...                                (null)   \n",
       "1                  SGT           ...                                (null)   \n",
       "2                  POM           ...                                     C   \n",
       "3                  POM           ...                                     H   \n",
       "4                  POM           ...                                     H   \n",
       "\n",
       "  STOP_LOCATION_APARTMENT  STOP_LOCATION_FULL_ADDRESS  \\\n",
       "0                  (null)        180 GREENWICH STREET   \n",
       "1                  (null)        180 GREENWICH STREET   \n",
       "2                  (null)     WALL STREET && BROADWAY   \n",
       "3                  (null)            75 GREENE STREET   \n",
       "4                       2           429 WEST BROADWAY   \n",
       "\n",
       "  STOP_LOCATION_PREMISES_NAME STOP_LOCATION_STREET_NAME STOP_LOCATION_X  \\\n",
       "0                      (null)          GREENWICH STREET          982381   \n",
       "1                      (null)          GREENWICH STREET          982381   \n",
       "2                      (null)               WALL STREET          981005   \n",
       "3                      (null)             GREENE STREET          984031   \n",
       "4                      (null)             WEST BROADWAY          983894   \n",
       "\n",
       "  STOP_LOCATION_Y  STOP_LOCATION_ZIP_CODE STOP_LOCATION_PATROL_BORO_NAME  \\\n",
       "0          201750                  (null)                           PBMS   \n",
       "1          201750                  (null)                           PBMS   \n",
       "2          197131                  (null)                           PBMS   \n",
       "3          202796                  (null)                           PBMS   \n",
       "4          203523                  (null)                           PBMS   \n",
       "\n",
       "   STOP_LOCATION_BORO_NAME  \n",
       "0                MANHATTAN  \n",
       "1                MANHATTAN  \n",
       "2                MANHATTAN  \n",
       "3                MANHATTAN  \n",
       "4                MANHATTAN  \n",
       "\n",
       "[5 rows x 86 columns]"
      ]
     },
     "execution_count": 9,
     "metadata": {},
     "output_type": "execute_result"
    }
   ],
   "source": [
    "df.head()"
   ]
  },
  {
   "cell_type": "code",
   "execution_count": 10,
   "metadata": {},
   "outputs": [
    {
     "data": {
      "text/plain": [
       "STOP_LOCATION_BORO_NAME\n",
       "(null)        410\n",
       "155070          1\n",
       "190241          1\n",
       "208169          1\n",
       "208760          2\n",
       "210334          1\n",
       "237177          1\n",
       "986759          1\n",
       "BRONX        2473\n",
       "BROOKLYN     3328\n",
       "MANHATTAN    2771\n",
       "PBBN            3\n",
       "PBBS            1\n",
       "PBBX            5\n",
       "PBMN            3\n",
       "PBMS            1\n",
       "PBSI            1\n",
       "QUEENS       2079\n",
       "STATEN IS     546\n",
       "Name: FRISKED_FLAG, dtype: int64"
      ]
     },
     "execution_count": 10,
     "metadata": {},
     "output_type": "execute_result"
    }
   ],
   "source": [
    "df.groupby('STOP_LOCATION_BORO_NAME')['FRISKED_FLAG'].count()"
   ]
  },
  {
   "cell_type": "code",
   "execution_count": 11,
   "metadata": {},
   "outputs": [
    {
     "data": {
      "text/plain": [
       "<matplotlib.axes._subplots.AxesSubplot at 0x1a146c0c50>"
      ]
     },
     "execution_count": 11,
     "metadata": {},
     "output_type": "execute_result"
    },
    {
     "data": {
      "image/png": "[encoded data removed]",
      "text/plain": [
       "<Figure size 720x360 with 1 Axes>"
      ]
     },
     "metadata": {},
     "output_type": "display_data"
    }
   ],
   "source": [
    "df.groupby('STOP_LOCATION_BORO_NAME')['FRISKED_FLAG'].count().plot(kind = 'bar', color = 'blue', title = 'Count of Frisks by Borough', figsize = (10, 5))"
   ]
  },
  {
   "cell_type": "code",
   "execution_count": 12,
   "metadata": {},
   "outputs": [
    {
     "data": {
      "text/plain": [
       "<matplotlib.axes._subplots.AxesSubplot at 0x1a166f8320>"
      ]
     },
     "execution_count": 12,
     "metadata": {},
     "output_type": "execute_result"
    },
    {
     "data": {
      "image/png": "[encoded data removed]",
      "text/plain": [
       "<Figure size 720x360 with 1 Axes>"
      ]
     },
     "metadata": {},
     "output_type": "display_data"
    }
   ],
   "source": [
    "df.groupby('STOP_LOCATION_BORO_NAME')[['SEARCHED_FLAG','FRISKED_FLAG']].count().plot(kind = 'bar', color = ['blue', 'red'], title = 'Count of Frisks by Borough', figsize = (10, 5))"
   ]
  },
  {
   "cell_type": "code",
   "execution_count": 17,
   "metadata": {},
   "outputs": [],
   "source": [
    "five_boroughs = df[(df['STOP_LOCATION_BORO_NAME'] == 'MANHATTAN') | (df['STOP_LOCATION_BORO_NAME'] == 'BRONX') | (df['STOP_LOCATION_BORO_NAME'] == 'BROOKLYN') | (df['STOP_LOCATION_BORO_NAME'] == 'STATEN IS') | (df['STOP_LOCATION_BORO_NAME'] ==  'QUEENS')]"
   ]
  },
  {
   "cell_type": "code",
   "execution_count": 18,
   "metadata": {},
   "outputs": [
    {
     "data": {
      "text/plain": [
       "BROOKLYN     3328\n",
       "MANHATTAN    2771\n",
       "BRONX        2473\n",
       "QUEENS       2079\n",
       "STATEN IS     546\n",
       "Name: STOP_LOCATION_BORO_NAME, dtype: int64"
      ]
     },
     "execution_count": 18,
     "metadata": {},
     "output_type": "execute_result"
    }
   ],
   "source": [
    "five_boroughs.STOP_LOCATION_BORO_NAME.value_counts()"
   ]
  },
  {
   "cell_type": "code",
   "execution_count": 19,
   "metadata": {},
   "outputs": [
    {
     "data": {
      "text/plain": [
       "<matplotlib.axes._subplots.AxesSubplot at 0x1a16965ac8>"
      ]
     },
     "execution_count": 19,
     "metadata": {},
     "output_type": "execute_result"
    },
    {
     "data": {
      "image/png": "[encoded data removed]",
      "text/plain": [
       "<Figure size 720x360 with 1 Axes>"
      ]
     },
     "metadata": {},
     "output_type": "display_data"
    }
   ],
   "source": [
    "five_boroughs.groupby('STOP_LOCATION_BORO_NAME')['FRISKED_FLAG'].count().plot(kind = 'bar', color = 'blue', title = 'Count of Frisks by Borough', figsize = (10, 5))"
   ]
  },
  {
   "cell_type": "code",
   "execution_count": 20,
   "metadata": {},
   "outputs": [
    {
     "data": {
      "text/plain": [
       "count    11629.000000\n",
       "mean        28.940838\n",
       "std        975.822879\n",
       "min          0.000000\n",
       "25%          1.000000\n",
       "50%          1.000000\n",
       "75%          2.000000\n",
       "max      99999.000000\n",
       "Name: OBSERVED_DURATION_MINUTES, dtype: float64"
      ]
     },
     "execution_count": 20,
     "metadata": {},
     "output_type": "execute_result"
    }
   ],
   "source": [
    "df['OBSERVED_DURATION_MINUTES'].describe()"
   ]
  },
  {
   "cell_type": "code",
   "execution_count": 21,
   "metadata": {},
   "outputs": [
    {
     "data": {
      "text/plain": [
       "(11629, 86)"
      ]
     },
     "execution_count": 21,
     "metadata": {},
     "output_type": "execute_result"
    }
   ],
   "source": [
    "df.shape"
   ]
  },
  {
   "cell_type": "code",
   "execution_count": 22,
   "metadata": {},
   "outputs": [
    {
     "data": {
      "text/plain": [
       "(11521, 86)"
      ]
     },
     "execution_count": 22,
     "metadata": {},
     "output_type": "execute_result"
    }
   ],
   "source": [
    "df[df['OBSERVED_DURATION_MINUTES'] <= 120].shape"
   ]
  },
  {
   "cell_type": "code",
   "execution_count": 23,
   "metadata": {},
   "outputs": [
    {
     "data": {
      "text/plain": [
       "0.009287127010061054"
      ]
     },
     "execution_count": 23,
     "metadata": {},
     "output_type": "execute_result"
    }
   ],
   "source": [
    "108/11629"
   ]
  },
  {
   "cell_type": "code",
   "execution_count": 24,
   "metadata": {},
   "outputs": [
    {
     "data": {
      "text/plain": [
       "108"
      ]
     },
     "execution_count": 24,
     "metadata": {},
     "output_type": "execute_result"
    }
   ],
   "source": [
    "11629 - 11521"
   ]
  },
  {
   "cell_type": "code",
   "execution_count": 25,
   "metadata": {},
   "outputs": [],
   "source": [
    "trimmed_time = df[df['OBSERVED_DURATION_MINUTES'] <= 120]"
   ]
  },
  {
   "cell_type": "code",
   "execution_count": 26,
   "metadata": {},
   "outputs": [
    {
     "data": {
      "text/plain": [
       "<matplotlib.axes._subplots.AxesSubplot at 0x1a169c52e8>"
      ]
     },
     "execution_count": 26,
     "metadata": {},
     "output_type": "execute_result"
    },
    {
     "data": {
      "image/png": "[encoded data removed]",
      "text/plain": [
       "<Figure size 432x288 with 1 Axes>"
      ]
     },
     "metadata": {},
     "output_type": "display_data"
    }
   ],
   "source": [
    "trimmed_time['OBSERVED_DURATION_MINUTES'].hist()"
   ]
  },
  {
   "cell_type": "code",
   "execution_count": 27,
   "metadata": {},
   "outputs": [
    {
     "data": {
      "text/plain": [
       "<matplotlib.axes._subplots.AxesSubplot at 0x1a16a3b3c8>"
      ]
     },
     "execution_count": 27,
     "metadata": {},
     "output_type": "execute_result"
    },
    {
     "data": {
      "image/png": "[encoded data removed]",
      "text/plain": [
       "<Figure size 432x288 with 1 Axes>"
      ]
     },
     "metadata": {},
     "output_type": "display_data"
    }
   ],
   "source": [
    "trimmed_time['OBSERVED_DURATION_MINUTES'].plot(kind = 'box')"
   ]
  },
  {
   "cell_type": "code",
   "execution_count": null,
   "metadata": {},
   "outputs": [],
   "source": []
  }
 ],
 "metadata": {
  "kernelspec": {
   "display_name": "Python 3",
   "language": "python",
   "name": "python3"
  },
  "language_info": {
   "codemirror_mode": {
    "name": "ipython",
    "version": 3
   },
   "file_extension": ".py",
   "mimetype": "text/x-python",
   "name": "python",
   "nbconvert_exporter": "python",
   "pygments_lexer": "ipython3",
   "version": "3.6.5"
  }
 },
 "nbformat": 4,
 "nbformat_minor": 2
}
